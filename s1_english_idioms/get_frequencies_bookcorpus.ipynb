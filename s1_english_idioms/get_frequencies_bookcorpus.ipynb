{
 "cells": [
  {
   "cell_type": "code",
   "execution_count": 33,
   "metadata": {},
   "outputs": [],
   "source": [
    "import pandas as pd\n",
    "import datasets\n",
    "from datasets import load_dataset\n",
    "from tqdm import tqdm\n",
    "\n",
    "dataset = load_dataset(\"bookcorpus\")['train']\n",
    "df = pd.read_csv('idioms.csv')"
   ]
  },
  {
   "cell_type": "code",
   "execution_count": 34,
   "metadata": {},
   "outputs": [],
   "source": [
    "import warnings\n",
    "warnings.filterwarnings(\"ignore\")"
   ]
  },
  {
   "cell_type": "code",
   "execution_count": 35,
   "metadata": {},
   "outputs": [],
   "source": [
    "df['pattern'] = df['idiom'].apply(lambda x: x.replace('[pron]', '[a-zA-Z+#\\-.0-9]{1,4}(\\s[a-zA-Z+#\\-.0-9]{1,4}){0,3}'))"
   ]
  },
  {
   "cell_type": "code",
   "execution_count": 36,
   "metadata": {},
   "outputs": [],
   "source": [
    "import re\n",
    "datasets.disable_progress_bar()\n",
    "def get_freq(pattern, dataset):\n",
    "    return len(dataset.filter(\n",
    "        lambda data: bool(re.search(pattern, data['text'])), num_proc=8\n",
    "    )) + 1"
   ]
  },
  {
   "cell_type": "code",
   "execution_count": 37,
   "metadata": {},
   "outputs": [
    {
     "name": "stderr",
     "output_type": "stream",
     "text": [
      "100%|██████████| 716/716 [4:31:26<00:00, 22.75s/it]   \n"
     ]
    }
   ],
   "source": [
    "tqdm.pandas()\n",
    "df['freq'] = df['pattern'].progress_apply(\n",
    "    lambda pattern: get_freq(pattern, dataset)\n",
    ")"
   ]
  },
  {
   "cell_type": "code",
   "execution_count": 38,
   "metadata": {},
   "outputs": [],
   "source": [
    "df.to_csv('idioms_evolved.csv', index=False)"
   ]
  },
  {
   "cell_type": "code",
   "execution_count": null,
   "metadata": {},
   "outputs": [],
   "source": []
  }
 ],
 "metadata": {
  "kernelspec": {
   "display_name": "py3.8",
   "language": "python",
   "name": "python3"
  },
  "language_info": {
   "codemirror_mode": {
    "name": "ipython",
    "version": 3
   },
   "file_extension": ".py",
   "mimetype": "text/x-python",
   "name": "python",
   "nbconvert_exporter": "python",
   "pygments_lexer": "ipython3",
   "version": "3.8.15"
  },
  "orig_nbformat": 4,
  "vscode": {
   "interpreter": {
    "hash": "da2a9f34583e9ea3cc1065aa56d5f53f1b075c06023b0dfd2220d4f64d35be3f"
   }
  }
 },
 "nbformat": 4,
 "nbformat_minor": 2
}
