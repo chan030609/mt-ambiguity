{
 "cells": [
  {
   "cell_type": "code",
   "execution_count": 33,
   "metadata": {},
   "outputs": [],
   "source": [
    "import pandas as pd\n",
    "import datasets\n",
    "from datasets import load_dataset\n",
    "from tqdm import tqdm\n",
    "\n",
    "dataset = load_dataset(\"bookcorpus\")['train']\n",
    "df = pd.read_csv('idioms.csv')"
   ]
  },
  {
   "cell_type": "code",
   "execution_count": 34,
   "metadata": {},
   "outputs": [],
   "source": [
    "import warnings\n",
    "warnings.filterwarnings(\"ignore\")"
   ]
  },
  {
   "cell_type": "code",
   "execution_count": 35,
   "metadata": {},
   "outputs": [],
   "source": [
    "df['pattern'] = df['idiom'].apply(lambda x: x.replace('[pron]', '[a-zA-Z+#\\-.0-9]{1,4}(\\s[a-zA-Z+#\\-.0-9]{1,4}){0,3}'))"
   ]
  },
  {
   "cell_type": "code",
   "execution_count": 36,
   "metadata": {},
   "outputs": [],
   "source": [
    "import re\n",
    "datasets.disable_progress_bar()\n",
    "def get_freq(pattern, dataset):\n",
    "    return len(dataset.filter(\n",
    "        lambda data: bool(re.search(pattern, data['text'])), num_proc=8\n",
    "    )) + 1"
   ]
  },
  {
   "cell_type": "code",
   "execution_count": 37,
   "metadata": {},
   "outputs": [
    {
     "name": "stderr",
     "output_type": "stream",
     "text": [
      "100%|██████████| 716/716 [4:31:26<00:00, 22.75s/it]   \n"
     ]
    }
   ],
   "source": [
    "tqdm.pandas()\n",
    "df['freq'] = df['pattern'].progress_apply(\n",
    "    lambda pattern: get_freq(pattern, dataset)\n",
    ")"
   ]
  },
  {
   "cell_type": "code",
   "execution_count": 40,
   "metadata": {},
   "outputs": [
    {
     "data": {
      "text/html": [
       "<div>\n",
       "<style scoped>\n",
       "    .dataframe tbody tr th:only-of-type {\n",
       "        vertical-align: middle;\n",
       "    }\n",
       "\n",
       "    .dataframe tbody tr th {\n",
       "        vertical-align: top;\n",
       "    }\n",
       "\n",
       "    .dataframe thead th {\n",
       "        text-align: right;\n",
       "    }\n",
       "</style>\n",
       "<table border=\"1\" class=\"dataframe\">\n",
       "  <thead>\n",
       "    <tr style=\"text-align: right;\">\n",
       "      <th></th>\n",
       "      <th>idiom</th>\n",
       "      <th>meaning</th>\n",
       "      <th>freq</th>\n",
       "    </tr>\n",
       "  </thead>\n",
       "  <tbody>\n",
       "    <tr>\n",
       "      <th>0</th>\n",
       "      <td>on the table</td>\n",
       "      <td>open for discussion or consideration.</td>\n",
       "      <td>50310</td>\n",
       "    </tr>\n",
       "    <tr>\n",
       "      <th>1</th>\n",
       "      <td>all the way</td>\n",
       "      <td>completely, to the fullest extent.</td>\n",
       "      <td>47592</td>\n",
       "    </tr>\n",
       "    <tr>\n",
       "      <th>2</th>\n",
       "      <td>you bet</td>\n",
       "      <td>absolutely, definitely, certainly.</td>\n",
       "      <td>17990</td>\n",
       "    </tr>\n",
       "    <tr>\n",
       "      <th>3</th>\n",
       "      <td>behind [pron] back</td>\n",
       "      <td>to do something without someone's knowledge or...</td>\n",
       "      <td>16340</td>\n",
       "    </tr>\n",
       "    <tr>\n",
       "      <th>4</th>\n",
       "      <td>big deal</td>\n",
       "      <td>used to express that something is not importan...</td>\n",
       "      <td>15342</td>\n",
       "    </tr>\n",
       "  </tbody>\n",
       "</table>\n",
       "</div>"
      ],
      "text/plain": [
       "                idiom                                            meaning  \\\n",
       "0        on the table              open for discussion or consideration.   \n",
       "1         all the way                 completely, to the fullest extent.   \n",
       "2             you bet                 absolutely, definitely, certainly.   \n",
       "3  behind [pron] back  to do something without someone's knowledge or...   \n",
       "4            big deal  used to express that something is not importan...   \n",
       "\n",
       "    freq  \n",
       "0  50310  \n",
       "1  47592  \n",
       "2  17990  \n",
       "3  16340  \n",
       "4  15342  "
      ]
     },
     "execution_count": 40,
     "metadata": {},
     "output_type": "execute_result"
    }
   ],
   "source": [
    "df = df.sort_values('freq', ascending=False).reset_index(drop=True)\n",
    "df = df[['idiom', 'meaning', 'freq']]\n",
    "df.head()"
   ]
  },
  {
   "cell_type": "code",
   "execution_count": 41,
   "metadata": {},
   "outputs": [],
   "source": [
    "df.to_csv('idioms_evolved.csv', index=False)"
   ]
  },
  {
   "cell_type": "code",
   "execution_count": null,
   "metadata": {},
   "outputs": [],
   "source": []
  }
 ],
 "metadata": {
  "kernelspec": {
   "display_name": "py3.8",
   "language": "python",
   "name": "python3"
  },
  "language_info": {
   "codemirror_mode": {
    "name": "ipython",
    "version": 3
   },
   "file_extension": ".py",
   "mimetype": "text/x-python",
   "name": "python",
   "nbconvert_exporter": "python",
   "pygments_lexer": "ipython3",
   "version": "3.8.15"
  },
  "orig_nbformat": 4,
  "vscode": {
   "interpreter": {
    "hash": "da2a9f34583e9ea3cc1065aa56d5f53f1b075c06023b0dfd2220d4f64d35be3f"
   }
  }
 },
 "nbformat": 4,
 "nbformat_minor": 2
}
