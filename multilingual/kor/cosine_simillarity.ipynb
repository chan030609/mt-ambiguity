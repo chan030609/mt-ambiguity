{
 "cells": [
  {
   "cell_type": "code",
   "execution_count": 1,
   "metadata": {},
   "outputs": [
    {
     "name": "stderr",
     "output_type": "stream",
     "text": [
      "/mmfs1/gscratch/ark/chan0369/ark/py3.8/lib/python3.8/site-packages/tqdm/auto.py:22: TqdmWarning: IProgress not found. Please update jupyter and ipywidgets. See https://ipywidgets.readthedocs.io/en/stable/user_install.html\n",
      "  from .autonotebook import tqdm as notebook_tqdm\n",
      "Downloading: 100%|██████████| 1.18k/1.18k [00:00<00:00, 1.72MB/s]\n",
      "Downloading: 100%|██████████| 190/190 [00:00<00:00, 225kB/s]\n",
      "Downloading: 100%|██████████| 10.6k/10.6k [00:00<00:00, 14.8MB/s]\n",
      "Downloading: 100%|██████████| 612/612 [00:00<00:00, 849kB/s]\n",
      "Downloading: 100%|██████████| 116/116 [00:00<00:00, 193kB/s]\n",
      "Downloading: 100%|██████████| 39.3k/39.3k [00:00<00:00, 269kB/s]\n",
      "Downloading: 100%|██████████| 90.9M/90.9M [00:00<00:00, 104MB/s] \n",
      "Downloading: 100%|██████████| 53.0/53.0 [00:00<00:00, 96.4kB/s]\n",
      "Downloading: 100%|██████████| 112/112 [00:00<00:00, 184kB/s]\n",
      "Downloading: 100%|██████████| 466k/466k [00:02<00:00, 193kB/s] \n",
      "Downloading: 100%|██████████| 350/350 [00:00<00:00, 489kB/s]\n",
      "Downloading: 100%|██████████| 13.2k/13.2k [00:00<00:00, 18.0MB/s]\n",
      "Downloading: 100%|██████████| 232k/232k [00:01<00:00, 125kB/s] \n",
      "Downloading: 100%|██████████| 349/349 [00:00<00:00, 564kB/s]\n"
     ]
    },
    {
     "data": {
      "text/plain": [
       "tensor([[0.6003]], device='cuda:0')"
      ]
     },
     "execution_count": 1,
     "metadata": {},
     "output_type": "execute_result"
    }
   ],
   "source": [
    "from sentence_transformers import SentenceTransformer, util\n",
    "model = SentenceTransformer('sentence-transformers/all-MiniLM-L6-v2')"
   ]
  },
  {
   "cell_type": "code",
   "execution_count": 11,
   "metadata": {},
   "outputs": [],
   "source": [
    "#Compute embedding for both lists\n",
    "def get_similarity(sentence1, sentence2):\n",
    "    embedding_1= model.encode(sentence1, convert_to_tensor=True)\n",
    "    embedding_2 = model.encode(sentence2, convert_to_tensor=True)\n",
    "    return float(util.pytorch_cos_sim(embedding_1, embedding_2)[0][0])"
   ]
  },
  {
   "cell_type": "code",
   "execution_count": 12,
   "metadata": {},
   "outputs": [
    {
     "data": {
      "text/plain": [
       "0.6611964702606201"
      ]
     },
     "execution_count": 12,
     "metadata": {},
     "output_type": "execute_result"
    }
   ],
   "source": [
    "get_similarity('I am happy', 'I am full of happiness')"
   ]
  },
  {
   "cell_type": "code",
   "execution_count": null,
   "metadata": {},
   "outputs": [],
   "source": []
  }
 ],
 "metadata": {
  "kernelspec": {
   "display_name": "Python 3.8.15",
   "language": "python",
   "name": "python3"
  },
  "language_info": {
   "codemirror_mode": {
    "name": "ipython",
    "version": 3
   },
   "file_extension": ".py",
   "mimetype": "text/x-python",
   "name": "python",
   "nbconvert_exporter": "python",
   "pygments_lexer": "ipython3",
   "version": "3.8.15"
  },
  "orig_nbformat": 4,
  "vscode": {
   "interpreter": {
    "hash": "041a91567dd1385a56650fb2a3ff488c3dbe5a4b8ba6a3308c8228d56b793f7a"
   }
  }
 },
 "nbformat": 4,
 "nbformat_minor": 2
}
