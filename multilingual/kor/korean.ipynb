{
 "cells": [
  {
   "cell_type": "code",
   "execution_count": 163,
   "metadata": {},
   "outputs": [],
   "source": [
    "import requests\n",
    "import pandas as pd\n",
    "import json\n",
    "from tqdm import tqdm\n",
    "import numpy as np\n",
    "tqdm.pandas()\n",
    "with open('idioms_korean.txt', 'r') as file:\n",
    "    idioms = file.read()"
   ]
  },
  {
   "cell_type": "code",
   "execution_count": 164,
   "metadata": {},
   "outputs": [
    {
     "data": {
      "text/html": [
       "<div>\n",
       "<style scoped>\n",
       "    .dataframe tbody tr th:only-of-type {\n",
       "        vertical-align: middle;\n",
       "    }\n",
       "\n",
       "    .dataframe tbody tr th {\n",
       "        vertical-align: top;\n",
       "    }\n",
       "\n",
       "    .dataframe thead th {\n",
       "        text-align: right;\n",
       "    }\n",
       "</style>\n",
       "<table border=\"1\" class=\"dataframe\">\n",
       "  <thead>\n",
       "    <tr style=\"text-align: right;\">\n",
       "      <th></th>\n",
       "      <th>idiom</th>\n",
       "    </tr>\n",
       "  </thead>\n",
       "  <tbody>\n",
       "    <tr>\n",
       "      <th>0</th>\n",
       "      <td>강 건너 불구경</td>\n",
       "    </tr>\n",
       "    <tr>\n",
       "      <th>1</th>\n",
       "      <td>가뭄에 콩 나듯</td>\n",
       "    </tr>\n",
       "    <tr>\n",
       "      <th>2</th>\n",
       "      <td>간(에) 바람 들다</td>\n",
       "    </tr>\n",
       "    <tr>\n",
       "      <th>3</th>\n",
       "      <td>간(에) 불 붙다</td>\n",
       "    </tr>\n",
       "    <tr>\n",
       "      <th>4</th>\n",
       "      <td>간(을) 빼 먹다</td>\n",
       "    </tr>\n",
       "  </tbody>\n",
       "</table>\n",
       "</div>"
      ],
      "text/plain": [
       "        idiom\n",
       "0    강 건너 불구경\n",
       "1    가뭄에 콩 나듯\n",
       "2  간(에) 바람 들다\n",
       "3   간(에) 불 붙다\n",
       "4   간(을) 빼 먹다"
      ]
     },
     "execution_count": 164,
     "metadata": {},
     "output_type": "execute_result"
    }
   ],
   "source": [
    "# Obtained from https://namu.wiki/w/%ED%95%9C%EA%B5%AD%EC%96%B4/%EA%B4%80%EC%9A%A9%EA%B5%AC\n",
    "df = pd.read_fwf('idioms_korean.txt', header=None, names=['idiom'])\n",
    "df.head()"
   ]
  },
  {
   "cell_type": "code",
   "execution_count": 165,
   "metadata": {},
   "outputs": [],
   "source": [
    "from selenium import webdriver\n",
    "from selenium.webdriver.common.by import By\n",
    "from selenium.webdriver.chrome.options import Options\n",
    "\n",
    "# Obtained from: https://en.dict.naver.com/#/main\n",
    "def get_url(idiom):\n",
    "    query = idiom.strip().replace(\" \", \"%20\")\n",
    "    return f\"https://en.dict.naver.com/#/search?query={query}&range=word\"\n",
    "\n",
    "def get_match_and_meaning(url, xpaths):\n",
    "    options = Options()\n",
    "    options.add_argument(\"--headless\")\n",
    "    driver = webdriver.Chrome(options=options)\n",
    "    driver.get(url)\n",
    "    for xpath in xpaths:\n",
    "        try:\n",
    "            element = driver.find_element(By.XPATH, xpath)\n",
    "            xpaths[xpath] += 1\n",
    "            text = element.text.split('\\n')\n",
    "            match = text[0]\n",
    "            meaning = text[1]\n",
    "            if meaning == \"1.\":\n",
    "                meaning = text[2]\n",
    "            return match, meaning\n",
    "        except:\n",
    "            continue\n",
    "    return '', ''\n",
    "\n",
    "def apply_selenium(row, xpaths):\n",
    "    url = get_url(row['idiom'])\n",
    "    row['match'], row['meaning'] = get_match_and_meaning(url, xpaths)\n",
    "    return row"
   ]
  },
  {
   "cell_type": "code",
   "execution_count": 166,
   "metadata": {},
   "outputs": [
    {
     "name": "stderr",
     "output_type": "stream",
     "text": [
      " 97%|█████████▋| 396/408 [14:06<00:25,  2.10s/it]"
     ]
    }
   ],
   "source": [
    "xpaths = {\n",
    "    '//*[@id=\"searchPage_entry\"]/div': 0,\n",
    "    '//*[@id=\"searchPage_entry\"]/div[0]': 0,\n",
    "}\n",
    "# subdf = df[:5].progress_apply(lambda row: apply_selenium(row, xpaths), axis=1)\n",
    "df = df.progress_apply(lambda row: apply_selenium(row, xpaths), axis=1)"
   ]
  },
  {
   "cell_type": "code",
   "execution_count": null,
   "metadata": {},
   "outputs": [],
   "source": [
    "df.to_csv('idioms_korean.csv', index=False)"
   ]
  }
 ],
 "metadata": {
  "kernelspec": {
   "display_name": "Python 3.8.15 ('py3.8')",
   "language": "python",
   "name": "python3"
  },
  "language_info": {
   "codemirror_mode": {
    "name": "ipython",
    "version": 3
   },
   "file_extension": ".py",
   "mimetype": "text/x-python",
   "name": "python",
   "nbconvert_exporter": "python",
   "pygments_lexer": "ipython3",
   "version": "3.8.15"
  },
  "orig_nbformat": 4,
  "vscode": {
   "interpreter": {
    "hash": "da2a9f34583e9ea3cc1065aa56d5f53f1b075c06023b0dfd2220d4f64d35be3f"
   }
  }
 },
 "nbformat": 4,
 "nbformat_minor": 2
}
