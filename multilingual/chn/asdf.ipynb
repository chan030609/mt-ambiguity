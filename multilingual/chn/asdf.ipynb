{
 "cells": [
  {
   "cell_type": "code",
   "execution_count": 35,
   "metadata": {},
   "outputs": [],
   "source": [
    "import pandas as pd\n",
    "import numpy as np\n",
    "\n",
    "df = pd.read_json('filtered.json')[['chinese', 'human', 'gold']]"
   ]
  },
  {
   "cell_type": "code",
   "execution_count": 36,
   "metadata": {},
   "outputs": [],
   "source": [
    "df['chinese'] = df['chinese'].apply(lambda x: x.split('，')[0] if len(x.split('，')) > 1 else x)\n",
    "df['human'] = df['human'].apply(lambda x: x[-1] if len(x) > 0 else \"\")\n",
    "df['gold'] = df['gold'].astype(str) + \"; \" + df['human'].astype(str) \n",
    "df['idiom'] = df['chinese']; df['meaning'] = df['gold']; df = df[['idiom', 'meaning']]"
   ]
  },
  {
   "cell_type": "code",
   "execution_count": 38,
   "metadata": {},
   "outputs": [],
   "source": [
    "df.to_csv('idioms.chinese.csv', index=False)"
   ]
  },
  {
   "cell_type": "code",
   "execution_count": null,
   "metadata": {},
   "outputs": [],
   "source": []
  }
 ],
 "metadata": {
  "kernelspec": {
   "display_name": "py3.8",
   "language": "python",
   "name": "python3"
  },
  "language_info": {
   "codemirror_mode": {
    "name": "ipython",
    "version": 3
   },
   "file_extension": ".py",
   "mimetype": "text/x-python",
   "name": "python",
   "nbconvert_exporter": "python",
   "pygments_lexer": "ipython3",
   "version": "3.8.15"
  },
  "orig_nbformat": 4,
  "vscode": {
   "interpreter": {
    "hash": "da2a9f34583e9ea3cc1065aa56d5f53f1b075c06023b0dfd2220d4f64d35be3f"
   }
  }
 },
 "nbformat": 4,
 "nbformat_minor": 2
}
