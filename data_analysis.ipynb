{
 "cells": [
  {
   "cell_type": "code",
   "execution_count": 6,
   "metadata": {},
   "outputs": [],
   "source": [
    "import pandas as pd\n",
    "import numpy as np\n",
    "import matplotlib.pyplot as plt"
   ]
  },
  {
   "cell_type": "markdown",
   "metadata": {},
   "source": [
    "# Dataset"
   ]
  },
  {
   "cell_type": "code",
   "execution_count": 2,
   "metadata": {},
   "outputs": [
    {
     "data": {
      "text/html": [
       "<div>\n",
       "<style scoped>\n",
       "    .dataframe tbody tr th:only-of-type {\n",
       "        vertical-align: middle;\n",
       "    }\n",
       "\n",
       "    .dataframe tbody tr th {\n",
       "        vertical-align: top;\n",
       "    }\n",
       "\n",
       "    .dataframe thead th {\n",
       "        text-align: right;\n",
       "    }\n",
       "</style>\n",
       "<table border=\"1\" class=\"dataframe\">\n",
       "  <thead>\n",
       "    <tr style=\"text-align: right;\">\n",
       "      <th></th>\n",
       "      <th>idiom</th>\n",
       "      <th>phrase</th>\n",
       "      <th>sentence</th>\n",
       "      <th>sentence_label_gpt3</th>\n",
       "      <th>phrase_label</th>\n",
       "      <th>sentence_label</th>\n",
       "      <th>kor_Hang_phrase</th>\n",
       "      <th>kor_Hang_sentence</th>\n",
       "      <th>kor_Hang_phrase_label</th>\n",
       "      <th>kor_Hang_sentence_label</th>\n",
       "    </tr>\n",
       "  </thead>\n",
       "  <tbody>\n",
       "    <tr>\n",
       "      <th>0</th>\n",
       "      <td>eyes are bigger than your stomach</td>\n",
       "      <td>My eyes were bigger than my stomach</td>\n",
       "      <td>My eyes were bigger than my stomach when I ord...</td>\n",
       "      <td>0</td>\n",
       "      <td>2</td>\n",
       "      <td>0</td>\n",
       "      <td>내 눈은 위보다 더 커서</td>\n",
       "      <td>식당에서 너무 많은 음식을 주문했을 때 내 눈은 위보다 더 커졌습니다.</td>\n",
       "      <td>1</td>\n",
       "      <td>1</td>\n",
       "    </tr>\n",
       "    <tr>\n",
       "      <th>1</th>\n",
       "      <td>eyes are bigger than your stomach</td>\n",
       "      <td>My eyes were bigger than my stomach</td>\n",
       "      <td>My eyes were bigger than my stomach when I tri...</td>\n",
       "      <td>1</td>\n",
       "      <td>2</td>\n",
       "      <td>0</td>\n",
       "      <td>내 눈은 위보다 더 커서</td>\n",
       "      <td>내가 혼자 피자를 먹으려고 할 때 내 눈은 위보다 더 커졌습니다.</td>\n",
       "      <td>1</td>\n",
       "      <td>1</td>\n",
       "    </tr>\n",
       "    <tr>\n",
       "      <th>2</th>\n",
       "      <td>eaten them alive</td>\n",
       "      <td>The crowd ate them alive</td>\n",
       "      <td>The crowd ate them alive with their criticism.</td>\n",
       "      <td>0</td>\n",
       "      <td>2</td>\n",
       "      <td>0</td>\n",
       "      <td>군중들은 그들을 살아 먹었습니다.</td>\n",
       "      <td>군중들은 그들의 비판으로 그들을 살아 먹었습니다.</td>\n",
       "      <td>2</td>\n",
       "      <td>0</td>\n",
       "    </tr>\n",
       "    <tr>\n",
       "      <th>3</th>\n",
       "      <td>eaten them alive</td>\n",
       "      <td>The crowd ate them alive</td>\n",
       "      <td>The crowd ate them alive because they were hun...</td>\n",
       "      <td>1</td>\n",
       "      <td>2</td>\n",
       "      <td>1</td>\n",
       "      <td>군중들은 그들을 살아 먹었습니다.</td>\n",
       "      <td>군중들은 굶주렸기 때문에 그들을 살아 먹었습니다.</td>\n",
       "      <td>2</td>\n",
       "      <td>1</td>\n",
       "    </tr>\n",
       "    <tr>\n",
       "      <th>4</th>\n",
       "      <td>makes my ears burn</td>\n",
       "      <td>My ears burn</td>\n",
       "      <td>My ears burn when I hear people talking about ...</td>\n",
       "      <td>0</td>\n",
       "      <td>2</td>\n",
       "      <td>0</td>\n",
       "      <td>내 귀가 불타고</td>\n",
       "      <td>사람들이 제 뒤에서 나에 대해 말하는 것을 들으면 귀가 니다.</td>\n",
       "      <td>1</td>\n",
       "      <td>1</td>\n",
       "    </tr>\n",
       "  </tbody>\n",
       "</table>\n",
       "</div>"
      ],
      "text/plain": [
       "                               idiom                               phrase  \\\n",
       "0  eyes are bigger than your stomach  My eyes were bigger than my stomach   \n",
       "1  eyes are bigger than your stomach  My eyes were bigger than my stomach   \n",
       "2                   eaten them alive             The crowd ate them alive   \n",
       "3                   eaten them alive             The crowd ate them alive   \n",
       "4                 makes my ears burn                         My ears burn   \n",
       "\n",
       "                                            sentence  sentence_label_gpt3  \\\n",
       "0  My eyes were bigger than my stomach when I ord...                    0   \n",
       "1  My eyes were bigger than my stomach when I tri...                    1   \n",
       "2     The crowd ate them alive with their criticism.                    0   \n",
       "3  The crowd ate them alive because they were hun...                    1   \n",
       "4  My ears burn when I hear people talking about ...                    0   \n",
       "\n",
       "   phrase_label  sentence_label     kor_Hang_phrase  \\\n",
       "0             2               0       내 눈은 위보다 더 커서   \n",
       "1             2               0       내 눈은 위보다 더 커서   \n",
       "2             2               0  군중들은 그들을 살아 먹었습니다.   \n",
       "3             2               1  군중들은 그들을 살아 먹었습니다.   \n",
       "4             2               0            내 귀가 불타고   \n",
       "\n",
       "                         kor_Hang_sentence  kor_Hang_phrase_label  \\\n",
       "0  식당에서 너무 많은 음식을 주문했을 때 내 눈은 위보다 더 커졌습니다.                      1   \n",
       "1     내가 혼자 피자를 먹으려고 할 때 내 눈은 위보다 더 커졌습니다.                      1   \n",
       "2              군중들은 그들의 비판으로 그들을 살아 먹었습니다.                      2   \n",
       "3              군중들은 굶주렸기 때문에 그들을 살아 먹었습니다.                      2   \n",
       "4       사람들이 제 뒤에서 나에 대해 말하는 것을 들으면 귀가 니다.                      1   \n",
       "\n",
       "   kor_Hang_sentence_label  \n",
       "0                        1  \n",
       "1                        1  \n",
       "2                        0  \n",
       "3                        1  \n",
       "4                        1  "
      ]
     },
     "execution_count": 2,
     "metadata": {},
     "output_type": "execute_result"
    }
   ],
   "source": [
    "df = pd.read_csv(\"subdf_gpt3_prompt_v7_5lang_annotated - subdf_gpt3_prompt_v7_5lang (1).csv\")\n",
    "df = df[[\n",
    "  'idiom', 'phrase', 'sentence', \n",
    "  'sentence_label_gpt3', 'phrase_label', 'sentence_label',\n",
    "  'kor_Hang_phrase', 'kor_Hang_sentence', 'kor_Hang_phrase_label', 'kor_Hang_sentence_label'\n",
    "]]\n",
    "df.head()"
   ]
  },
  {
   "cell_type": "code",
   "execution_count": 3,
   "metadata": {},
   "outputs": [
    {
     "name": "stdout",
     "output_type": "stream",
     "text": [
      "idiom                      0\n",
      "phrase                     0\n",
      "sentence                   0\n",
      "sentence_label_gpt3        0\n",
      "phrase_label               0\n",
      "sentence_label             0\n",
      "kor_Hang_phrase            0\n",
      "kor_Hang_sentence          0\n",
      "kor_Hang_phrase_label      0\n",
      "kor_Hang_sentence_label    0\n",
      "dtype: int64\n",
      "The dataset is 200 row-long.\n"
     ]
    }
   ],
   "source": [
    "print(df.isnull().sum())\n",
    "print(\"The dataset is\", len(df), \"row-long.\")"
   ]
  },
  {
   "cell_type": "markdown",
   "metadata": {},
   "source": [
    "# Outline\n",
    "\n",
    "### Evaluation of GPT-3-Generated Labels\n",
    "- Label distribution of GPT-3-generated labels (pie chart) for `phrase` and `subsentence`\n",
    "- Label distribution of human labels (pie chart) for `phrase` and `subsentence`\n",
    "\n",
    "### Label Distribution of Translations for Phrase and Subsentence\n",
    "- Label distribution of `phrase` for all 5 languages and average\n",
    "    - 6 pie charts on 2 * 3 grid\n",
    "- Label distribution of `subsentence` for all 5 languages and average\n",
    "    - 6 pie charts on 2 * 3 grid\n",
    "- 3 (human, English) x 3 (human, target) matrix for `phrase`\n",
    "- 3 (human, English) x 3 (human, target) matrix for `subsentence`"
   ]
  },
  {
   "cell_type": "markdown",
   "metadata": {},
   "source": [
    "## Evaluating Labels Created by GPT-3"
   ]
  },
  {
   "cell_type": "markdown",
   "metadata": {},
   "source": [
    "### GPT-3 vs Human"
   ]
  },
  {
   "cell_type": "code",
   "execution_count": 4,
   "metadata": {},
   "outputs": [
    {
     "data": {
      "image/png": "[encoded data removed]",
      "text/plain": [
       "<Figure size 640x320 with 2 Axes>"
      ]
     },
     "metadata": {},
     "output_type": "display_data"
    }
   ],
   "source": [
    "plt.figure(figsize=(8, 4), dpi=80)\n",
    "plt.suptitle(\"Labels Produced by GPT-3 vs Human\")\n",
    "\n",
    "plt.subplot(1, 2, 1)\n",
    "X = ['fig (0)', 'lit (1)', 'amb (2)']\n",
    "Ygpt3 = [0, 0, len(df) / 2]\n",
    "Zhuman = [\n",
    "    len(df[df['phrase_label'] == 0]) / 2, \n",
    "    len(df[df['phrase_label'] == 1]) / 2,\n",
    "    len(df[df['phrase_label'] == 2]) / 2,\n",
    "]\n",
    "X_axis = np.arange(len(X))\n",
    "plt.bar(X_axis - 0.2, Ygpt3, 0.4, label = 'GPT-3')\n",
    "plt.bar(X_axis + 0.2, Zhuman, 0.4, label = 'Human')\n",
    "plt.xticks(X_axis, X)\n",
    "plt.xlabel(\"Label\")\n",
    "plt.ylabel(\"Number of Phrases\")\n",
    "plt.title(\"Phrase\")\n",
    "plt.legend()\n",
    "\n",
    "plt.subplot(1, 2, 2)\n",
    "X = ['fig (0)', 'lit (1)', 'amb (2)']\n",
    "Ygpt3 = [len(df) / 2, len(df) / 2, 0]\n",
    "Zhuman = [\n",
    "    len(df[df['sentence_label'] == 0]), \n",
    "    len(df[df['sentence_label'] == 1]),\n",
    "    len(df[df['sentence_label'] == 2]),\n",
    "]\n",
    "X_axis = np.arange(len(X))\n",
    "plt.bar(X_axis - 0.2, Ygpt3, 0.4, label = 'GPT-3')\n",
    "plt.bar(X_axis + 0.2, Zhuman, 0.4, label = 'Human')\n",
    "plt.xticks(X_axis, X)\n",
    "plt.xlabel(\"Label\")\n",
    "plt.ylabel(\"Number of Sentences\")\n",
    "plt.title(\"Sentence\")\n",
    "plt.legend()\n",
    "plt.tight_layout()\n",
    "\n",
    "plt.show()"
   ]
  },
  {
   "cell_type": "markdown",
   "metadata": {},
   "source": [
    "### Accuracy "
   ]
  },
  {
   "cell_type": "code",
   "execution_count": 5,
   "metadata": {},
   "outputs": [
    {
     "name": "stdout",
     "output_type": "stream",
     "text": [
      "Phrase: 0.95\n",
      "Sentence: 0.97\n"
     ]
    }
   ],
   "source": [
    "print(f\"Phrase: {len(df[df['phrase_label'] == 2]) / len(df)}\")\n",
    "print(f\"Sentence: {len(df[df['sentence_label'] == df['sentence_label_gpt3']]) / len(df)}\")"
   ]
  },
  {
   "cell_type": "markdown",
   "metadata": {},
   "source": [
    "## Evaluating Translation"
   ]
  },
  {
   "cell_type": "code",
   "execution_count": null,
   "metadata": {},
   "outputs": [],
   "source": []
  }
 ],
 "metadata": {
  "kernelspec": {
   "display_name": "Python 3.8.15 (conda)",
   "language": "python",
   "name": "python3"
  },
  "language_info": {
   "codemirror_mode": {
    "name": "ipython",
    "version": 3
   },
   "file_extension": ".py",
   "mimetype": "text/x-python",
   "name": "python",
   "nbconvert_exporter": "python",
   "pygments_lexer": "ipython3",
   "version": "3.8.15"
  },
  "orig_nbformat": 4,
  "vscode": {
   "interpreter": {
    "hash": "041a91567dd1385a56650fb2a3ff488c3dbe5a4b8ba6a3308c8228d56b793f7a"
   }
  }
 },
 "nbformat": 4,
 "nbformat_minor": 2
}
